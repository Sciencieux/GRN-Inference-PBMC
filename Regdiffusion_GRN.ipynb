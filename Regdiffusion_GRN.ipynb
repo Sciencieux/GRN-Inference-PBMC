{
 "cells": [
  {
   "cell_type": "code",
   "execution_count": null,
   "id": "2f91421a-302a-45b0-8c94-de41e1ba1c04",
   "metadata": {},
   "outputs": [],
   "source": [
    "!pip install regdiffusion"
   ]
  },
  {
   "cell_type": "code",
   "execution_count": null,
   "id": "3e7a49b7-4ba3-442c-aa4c-6f239ec12302",
   "metadata": {},
   "outputs": [],
   "source": [
    "import anndata as ad\n",
    "import regdiffusion as rd\n",
    "import numpy as np\n",
    "import h5py\n",
    "\n",
    "file_path = '' #Your own file path\n",
    "with h5py.File(file_path, 'r') as f:\n",
    "    def print_name(name):\n",
    "        print(name)\n",
    "    f.visit(print_name)\n",
    "#Check the dataset"
   ]
  },
  {
   "cell_type": "code",
   "execution_count": null,
   "id": "625e292d-682b-42cb-af39-9cc56b8f7f6d",
   "metadata": {},
   "outputs": [],
   "source": [
    "import pandas as pd\n",
    "from scipy.sparse import csr_matrix\n",
    "import regdiffusion\n",
    "\n",
    "pb_dt, pb_gt = rd.data(file_path)\n",
    "#Load the data"
   ]
  },
  {
   "cell_type": "code",
   "execution_count": null,
   "id": "b58d51c0-23f7-427d-8c63-865f9c978dd1",
   "metadata": {},
   "outputs": [],
   "source": [
    "pb_dt\n",
    "pb_gt"
   ]
  },
  {
   "cell_type": "code",
   "execution_count": null,
   "id": "54f3d3e7-6993-4774-bb6b-843609b07e2c",
   "metadata": {},
   "outputs": [],
   "source": [
    "import time\n",
    "start_time = time.time()\n",
    "rd_trainer = rd.RegDiffusionTrainer(pb_dt.X)\n",
    "rd_trainer.train()\n",
    "\n",
    "evaluator = rd.evaluator.GRNEvaluator(pb_gt, pb_dt.var_names)\n",
    "inferred_adj = rd_trainer.get_adj()\n",
    "evaluator.evaluate(inferred_adj)\n",
    "\n",
    "end_time = time.time()\n",
    "\n",
    "# calculate training time\n",
    "training_duration = end_time - start_time\n",
    "\n",
    "print(f\"Training duration: {training_duration} seconds\")"
   ]
  },
  {
   "cell_type": "code",
   "execution_count": null,
   "id": "f6e0d51f-e1ba-47be-a491-2f1d74733cf5",
   "metadata": {},
   "outputs": [],
   "source": [
    "grn = rd_trainer.get_grn(pb_dt.var_names)\n",
    "grn"
   ]
  },
  {
   "cell_type": "code",
   "execution_count": null,
   "id": "808a8d6f-a0c5-44e4-ac26-c0b0f9a9a1ca",
   "metadata": {},
   "outputs": [],
   "source": [
    "grn.gene_names[np.argmax(grn.adj_matrix.max(1))]"
   ]
  },
  {
   "cell_type": "code",
   "execution_count": null,
   "id": "a2d64afa-8185-4a09-a087-2dd3ed1ed915",
   "metadata": {},
   "outputs": [],
   "source": [
    "g = grn.visualize_local_neighborhood(['HIST1H1D', 'MCM3'], k=40)\n",
    "g.show('view.html')"
   ]
  }
 ],
 "metadata": {
  "kernelspec": {
   "display_name": "Python 3 (ipykernel)",
   "language": "python",
   "name": "python3"
  },
  "language_info": {
   "codemirror_mode": {
    "name": "ipython",
    "version": 3
   },
   "file_extension": ".py",
   "mimetype": "text/x-python",
   "name": "python",
   "nbconvert_exporter": "python",
   "pygments_lexer": "ipython3",
   "version": "3.11.5"
  }
 },
 "nbformat": 4,
 "nbformat_minor": 5
}
